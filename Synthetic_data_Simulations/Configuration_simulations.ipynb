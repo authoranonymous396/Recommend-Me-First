{
 "cells": [
  {
   "cell_type": "code",
   "execution_count": null,
   "metadata": {},
   "outputs": [],
   "source": [
    "\n",
    "import model as model \n",
    "import simulation as sim \n",
    "from experimental_setup import generate_config_csvs\n",
    "import numpy as np \n",
    "import pandas as pd\n",
    "import seaborn as sns\n",
    "import matplotlib as mpl\n",
    "import matplotlib.pyplot as plt\n",
    "from matplotlib.colors import LinearSegmentedColormap"
   ]
  },
  {
   "cell_type": "markdown",
   "metadata": {},
   "source": []
  },
  {
   "cell_type": "code",
   "execution_count": 7,
   "metadata": {},
   "outputs": [
    {
     "data": {
      "text/plain": [
       "1"
      ]
     },
     "execution_count": 7,
     "metadata": {},
     "output_type": "execute_result"
    }
   ],
   "source": [
    "config = {}\n",
    "config['num_CCs'] = 100\n",
    "config['num_groups']= 9900 # if n = num_CCs, should be n(n-1)\n",
    "config['num_users'] = 49500 # should be a multiple of num_groups\n",
    "config['num_steps'] = 100\n",
    "config['record_at_timesteps'] = '\"[2,5,10,20,50, 100]\"'\n",
    "config['time_agg'] = '\"[1001]\"'\n",
    "config['rs_model'] = 'Comparison_random'\n",
    "config['uniform']= True \n",
    "config['probability'] = 1\n",
    "\n",
    "config['alpha'] = 1\n",
    "changing = {}\n",
    "# we need a list of changing varaibles because lists are not hashable --> useful for dict\n",
    "changing_var_lists = [['random_seed']]\n",
    "#changing_var_lists = [['random_seed'], ['time_perm']]\n",
    "\n",
    "gen = np.random.RandomState(97)\n",
    "changing[0] = [[x] for x in gen.randint(1000000, size=1)]\n",
    "\n",
    "base_config = config \n",
    "generate_config_csvs(base_config, changing, changing_var_lists, path='Simulation_results',\n",
    "                         no_folders=1, start_config_no=-1, regenerate_seeds=False)"
   ]
  },
  {
   "cell_type": "code",
   "execution_count": 8,
   "metadata": {},
   "outputs": [
    {
     "data": {
      "text/plain": [
       "{'num_CCs': 100,\n",
       " 'num_groups': 9900,\n",
       " 'num_users': 49500,\n",
       " 'num_steps': 100,\n",
       " 'record_at_timesteps': '\"[2,5,10,20,50, 100]\"',\n",
       " 'time_agg': '\"[1001]\"',\n",
       " 'rs_model': 'Comparison_random',\n",
       " 'uniform': True,\n",
       " 'probability': 1,\n",
       " 'alpha': 1}"
      ]
     },
     "execution_count": 8,
     "metadata": {},
     "output_type": "execute_result"
    }
   ],
   "source": [
    "config"
   ]
  },
  {
   "cell_type": "markdown",
   "metadata": {},
   "source": []
  },
  {
   "cell_type": "code",
   "execution_count": 9,
   "metadata": {},
   "outputs": [],
   "source": [
    "sim.run_sims()"
   ]
  }
 ],
 "metadata": {
  "kernelspec": {
   "display_name": "env_test",
   "language": "python",
   "name": "python3"
  },
  "language_info": {
   "codemirror_mode": {
    "name": "ipython",
    "version": 3
   },
   "file_extension": ".py",
   "mimetype": "text/x-python",
   "name": "python",
   "nbconvert_exporter": "python",
   "pygments_lexer": "ipython3",
   "version": "3.12.5"
  }
 },
 "nbformat": 4,
 "nbformat_minor": 2
}
